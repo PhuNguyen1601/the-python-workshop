{
 "cells": [
  {
   "attachments": {},
   "cell_type": "markdown",
   "metadata": {},
   "source": [
    "## **Technical requirements**"
   ]
  },
  {
   "attachments": {},
   "cell_type": "markdown",
   "metadata": {},
   "source": [
    "### **Using list comprehensions**"
   ]
  },
  {
   "attachments": {},
   "cell_type": "markdown",
   "metadata": {},
   "source": [
    "**Exercise 100 – introducing list comprehensions**"
   ]
  },
  {
   "cell_type": "code",
   "execution_count": 1,
   "metadata": {},
   "outputs": [
    {
     "name": "stdout",
     "output_type": "stream",
     "text": [
      "[1, 8, 27, 64, 125]\n"
     ]
    }
   ],
   "source": [
    "cubes = []\n",
    "for x in [1,2,3,4,5]:\n",
    "    cubes.append(x**3)\n",
    "print(cubes)"
   ]
  },
  {
   "cell_type": "code",
   "execution_count": 2,
   "metadata": {},
   "outputs": [
    {
     "name": "stdout",
     "output_type": "stream",
     "text": [
      "[1, 8, 27, 64, 125]\n"
     ]
    }
   ],
   "source": [
    "cubes = [x**3 for x in [1,2,3,4,5]]\n",
    "print(cubes)"
   ]
  },
  {
   "cell_type": "code",
   "execution_count": 3,
   "metadata": {},
   "outputs": [
    {
     "name": "stdout",
     "output_type": "stream",
     "text": [
      "[1, 8, 27, 64, 125]\n"
     ]
    }
   ],
   "source": [
    "cubes = [x**3 for x in range(1,6)]\n",
    "print(cubes)"
   ]
  },
  {
   "cell_type": "code",
   "execution_count": 4,
   "metadata": {},
   "outputs": [],
   "source": [
    "names = ['Graham Chapman','John Cleese','Terry Gilliam','Eric Idle','Terry Jones']"
   ]
  },
  {
   "cell_type": "code",
   "execution_count": 5,
   "metadata": {},
   "outputs": [
    {
     "name": "stdout",
     "output_type": "stream",
     "text": [
      "['TERRY GILLIAM', 'TERRY JONES']\n"
     ]
    }
   ],
   "source": [
    "print([name.upper() for name in names if name.startswith('T')])"
   ]
  },
  {
   "attachments": {},
   "cell_type": "markdown",
   "metadata": {},
   "source": [
    "**Exercise 101 – using multiple input lists**"
   ]
  },
  {
   "cell_type": "code",
   "execution_count": 11,
   "metadata": {},
   "outputs": [
    {
     "name": "stdout",
     "output_type": "stream",
     "text": [
      "['chips ', 'chips chips ', 'chips chips chips ', 'spam ', 'spam spam ', 'spam spam spam ', 'eggs ', 'eggs eggs ', 'eggs eggs eggs ']\n"
     ]
    }
   ],
   "source": [
    "print([x*y for x in ['chips ','spam ','eggs '] for y in [1,2,3] ])"
   ]
  },
  {
   "cell_type": "code",
   "execution_count": 12,
   "metadata": {},
   "outputs": [
    {
     "name": "stdout",
     "output_type": "stream",
     "text": [
      "['chips ', 'spam ', 'eggs ', 'chips chips ', 'spam spam ', 'eggs eggs ', 'chips chips chips ', 'spam spam spam ', 'eggs eggs eggs ']\n"
     ]
    }
   ],
   "source": [
    "print([x*y for x in [1,2,3]  for y in ['chips ','spam ','eggs '] ])\n"
   ]
  },
  {
   "cell_type": "code",
   "execution_count": 13,
   "metadata": {},
   "outputs": [
    {
     "name": "stdout",
     "output_type": "stream",
     "text": [
      "[1, 1, 1, 2, 4, 8, 3, 9, 27]\n"
     ]
    }
   ],
   "source": [
    "numbers = [1,2,3]\n",
    "\n",
    "print([x**y for x in numbers for y in numbers])"
   ]
  },
  {
   "attachments": {},
   "cell_type": "markdown",
   "metadata": {},
   "source": [
    "### **Set and dictionary comprehensions**"
   ]
  },
  {
   "attachments": {},
   "cell_type": "markdown",
   "metadata": {},
   "source": [
    "**Exercise 102 – using set comprehensions**"
   ]
  },
  {
   "cell_type": "code",
   "execution_count": 14,
   "metadata": {},
   "outputs": [
    {
     "name": "stdout",
     "output_type": "stream",
     "text": [
      "[4, 3, 2, 1, 5, 4, 3, 2, 6, 5, 4, 3, 7, 6, 5, 4]\n"
     ]
    }
   ],
   "source": [
    "print([a+b for a in [0,1,2,3] for b in [4,3,2,1]])"
   ]
  },
  {
   "cell_type": "code",
   "execution_count": 15,
   "metadata": {},
   "outputs": [
    {
     "name": "stdout",
     "output_type": "stream",
     "text": [
      "{1, 2, 3, 4, 5, 6, 7}\n"
     ]
    }
   ],
   "source": [
    "print({a+b for a in [0,1,2,3] for b in [4,3,2,1]})"
   ]
  },
  {
   "attachments": {},
   "cell_type": "markdown",
   "metadata": {},
   "source": [
    "**Exercise 103 – using dictionary comprehensions**"
   ]
  },
  {
   "cell_type": "code",
   "execution_count": 16,
   "metadata": {},
   "outputs": [
    {
     "name": "stdout",
     "output_type": "stream",
     "text": [
      "{'Eric': 4, 'Graham': 6, 'Terry': 5, 'John': 4}\n"
     ]
    }
   ],
   "source": [
    "names = ['Eric','Graham','Terry','John','Terry']\n",
    "\n",
    "print({k:len(k) for k in names})"
   ]
  },
  {
   "attachments": {},
   "cell_type": "markdown",
   "metadata": {},
   "source": [
    "## **Using defaultdict to get default values**"
   ]
  },
  {
   "attachments": {},
   "cell_type": "markdown",
   "metadata": {},
   "source": [
    "**Exercise 104 – adopting a default dict**"
   ]
  },
  {
   "cell_type": "code",
   "execution_count": 25,
   "metadata": {},
   "outputs": [
    {
     "name": "stdout",
     "output_type": "stream",
     "text": [
      "this is java\n"
     ]
    }
   ],
   "source": [
    "from collections import defaultdict\n",
    "courses = defaultdict(lambda:'No!')\n",
    "courses['Java'] = 'this is java'\n",
    "print(courses['Java'])"
   ]
  },
  {
   "attachments": {},
   "cell_type": "markdown",
   "metadata": {},
   "source": [
    "### **Creating custom iterators**"
   ]
  },
  {
   "attachments": {},
   "cell_type": "markdown",
   "metadata": {},
   "source": [
    "**Exercise 105 – the simplest iterator**"
   ]
  },
  {
   "cell_type": "code",
   "execution_count": 26,
   "metadata": {},
   "outputs": [
    {
     "name": "stdout",
     "output_type": "stream",
     "text": [
      "What is your name?\n",
      "What is your quest?\n",
      "What is the average airspeed velocity of an unladen swallow?\n"
     ]
    }
   ],
   "source": [
    "class Interrogator:\n",
    "    def __init__(self,questions):\n",
    "        self.questions = questions\n",
    "        \n",
    "    def __iter__(self):\n",
    "        return self.questions.__iter__()\n",
    "\n",
    "questions = [\"What is your name?\", \"What is your quest?\",\"What is the average airspeed velocity of an unladen swallow?\"]\n",
    "\n",
    "awkward_person = Interrogator(questions)\n",
    "\n",
    "for question in awkward_person:\n",
    "    print(question)"
   ]
  },
  {
   "attachments": {},
   "cell_type": "markdown",
   "metadata": {},
   "source": [
    "**Exercise 106 – a custom iterator**"
   ]
  },
  {
   "cell_type": "code",
   "execution_count": 31,
   "metadata": {},
   "outputs": [
    {
     "name": "stdout",
     "output_type": "stream",
     "text": [
      "[2, 3, 5, 7, 11, 13, 17, 19, 23, 29, 31, 37, 41, 43, 47, 53, 59, 61, 67, 71, 73, 79, 83, 89, 97]\n"
     ]
    }
   ],
   "source": [
    "class PrimesBelow:\n",
    "    def __init__(self,bound):\n",
    "        self.candidate_numbers = list(range(2,bound))\n",
    "        \n",
    "    def __iter__(self):\n",
    "        return self\n",
    "    \n",
    "    def __next__(self):\n",
    "        if len(self.candidate_numbers) == 0:\n",
    "            raise StopIteration\n",
    "        next_prime = self.candidate_numbers[0]\n",
    "        self.candidate_numbers = [x for x in self.candidate_numbers if x % next_prime != 0]\n",
    "        return next_prime\n",
    "primes_to_a_hundred = [prime for prime in PrimesBelow(100)]\n",
    "print (primes_to_a_hundred)    \n",
    "        "
   ]
  },
  {
   "attachments": {},
   "cell_type": "markdown",
   "metadata": {},
   "source": [
    "**Exercise 107 – controlling the iteration**"
   ]
  },
  {
   "cell_type": "code",
   "execution_count": 35,
   "metadata": {},
   "outputs": [
    {
     "data": {
      "text/plain": [
       "3"
      ]
     },
     "execution_count": 35,
     "metadata": {},
     "output_type": "execute_result"
    }
   ],
   "source": [
    "primes_under_five = iter(PrimesBelow(5))\n",
    "next(primes_under_five)\n"
   ]
  },
  {
   "attachments": {},
   "cell_type": "markdown",
   "metadata": {},
   "source": [
    "### **Leveraging itertools**"
   ]
  },
  {
   "attachments": {},
   "cell_type": "markdown",
   "metadata": {},
   "source": [
    "**Exercise 108 – using infinite sequences and takewhile()**"
   ]
  },
  {
   "cell_type": "code",
   "execution_count": null,
   "metadata": {},
   "outputs": [],
   "source": [
    "class Primes:\n",
    "    def __init__(self):\n",
    "        self.current = 2\n",
    "        \n",
    "    def __iter__(self):\n",
    "        return self\n",
    "    \n",
    "    def __next__(self):\n",
    "        while True:\n",
    "            current = self.current\n",
    "            square_root = int(current ** 0.5)\n",
    "            is_prime = True\n",
    "            if square_root >= 2: \n",
    "                for i in range(2, square_root + 1):\n",
    "                    if current % i == 0:\n",
    "                        is_prime = False\n",
    "                        break\n",
    "                        \n",
    "            self.current += 1\n",
    "            \n",
    "            if is_prime:\n",
    "                return current\n",
    "\n",
    "import itertools\n",
    "print([p for p in itertools.takewhile(lambda x: x<100,Primes())])\n"
   ]
  },
  {
   "attachments": {},
   "cell_type": "markdown",
   "metadata": {},
   "source": [
    "**Exercise 109 – turning a finite sequence into an infinite one, and back again**"
   ]
  },
  {
   "cell_type": "code",
   "execution_count": 45,
   "metadata": {},
   "outputs": [
    {
     "name": "stdout",
     "output_type": "stream",
     "text": [
      "['White', 'Black', 'White', 'Black', 'White', 'Black', 'White', 'Black', 'White', 'Black', 'White', 'Black', 'White', 'Black', 'White', 'Black', 'White', 'Black', 'White', 'Black', 'White', 'Black', 'White', 'Black', 'White', 'Black', 'White', 'Black', 'White', 'Black', 'White', 'Black', 'White', 'Black', 'White', 'Black', 'White', 'Black', 'White', 'Black', 'White', 'Black', 'White', 'Black', 'White', 'Black', 'White', 'Black', 'White', 'Black', 'White', 'Black', 'White', 'Black', 'White', 'Black', 'White', 'Black', 'White', 'Black', 'White', 'Black', 'White', 'Black', 'White', 'Black', 'White', 'Black', 'White', 'Black', 'White', 'Black', 'White', 'Black', 'White', 'Black', 'White', 'Black', 'White', 'Black', 'White', 'Black', 'White', 'Black', 'White', 'Black', 'White', 'Black', 'White', 'Black', 'White', 'Black', 'White', 'Black', 'White', 'Black', 'White', 'Black', 'White', 'Black', 'White', 'Black', 'White', 'Black', 'White', 'Black', 'White', 'Black', 'White', 'Black', 'White', 'Black', 'White', 'Black', 'White', 'Black', 'White', 'Black', 'White', 'Black', 'White', 'Black', 'White', 'Black', 'White', 'Black', 'White', 'Black', 'White', 'Black', 'White', 'Black', 'White', 'Black', 'White', 'Black', 'White', 'Black', 'White', 'Black', 'White', 'Black', 'White', 'Black', 'White', 'Black', 'White', 'Black', 'White', 'Black', 'White', 'Black', 'White', 'Black', 'White', 'Black', 'White', 'Black', 'White', 'Black', 'White', 'Black', 'White', 'Black', 'White', 'Black', 'White', 'Black', 'White', 'Black', 'White', 'Black', 'White', 'Black', 'White', 'Black', 'White', 'Black', 'White', 'Black', 'White', 'Black', 'White', 'Black', 'White', 'Black', 'White', 'Black', 'White', 'Black', 'White', 'Black', 'White', 'Black', 'White', 'Black', 'White', 'Black', 'White', 'Black', 'White', 'Black', 'White', 'Black', 'White', 'Black', 'White', 'Black', 'White', 'Black', 'White', 'Black', 'White', 'Black', 'White', 'Black', 'White', 'Black', 'White', 'Black', 'White', 'Black', 'White', 'Black', 'White', 'Black', 'White', 'Black', 'White', 'Black', 'White', 'Black', 'White', 'Black', 'White', 'Black', 'White', 'Black', 'White', 'Black', 'White', 'Black', 'White', 'Black', 'White', 'Black', 'White', 'Black', 'White', 'Black', 'White', 'Black', 'White', 'Black', 'White', 'Black', 'White', 'Black', 'White', 'Black', 'White', 'Black', 'White', 'Black', 'White', 'Black', 'White', 'Black', 'White', 'Black', 'White', 'Black', 'White', 'Black', 'White', 'Black', 'White', 'Black', 'White', 'Black', 'White', 'Black', 'White', 'Black', 'White', 'Black', 'White', 'Black', 'White', 'Black', 'White', 'Black', 'White', 'Black', 'White', 'Black', 'White', 'Black', 'White', 'Black', 'White', 'Black', 'White', 'Black', 'White', 'Black', 'White', 'Black', 'White', 'Black', 'White', 'Black', 'White', 'Black', 'White', 'Black', 'White', 'Black', 'White', 'Black', 'White', 'Black', 'White', 'Black', 'White', 'Black', 'White', 'Black', 'White', 'Black', 'White', 'Black', 'White', 'Black', 'White', 'Black', 'White', 'Black', 'White', 'Black', 'White', 'Black', 'White', 'Black', 'White', 'Black', 'White', 'Black', 'White', 'Black', 'White', 'Black', 'White', 'Black', 'White', 'Black', 'White', 'Black', 'White', 'Black', 'White', 'Black', 'White', 'Black', 'White', 'Black', 'White', 'Black', 'White', 'Black', 'White', 'Black', 'White', 'Black', 'White', 'Black', 'White', 'Black', 'White', 'Black', 'White', 'Black', 'White', 'Black', 'White', 'Black', 'White', 'Black', 'White', 'Black', 'White', 'Black', 'White', 'Black', 'White', 'Black', 'White', 'Black', 'White', 'Black', 'White', 'Black', 'White', 'Black', 'White', 'Black', 'White', 'Black', 'White', 'Black', 'White', 'Black', 'White', 'Black', 'White', 'Black', 'White', 'Black', 'White', 'Black', 'White', 'Black', 'White', 'Black', 'White', 'Black', 'White', 'Black', 'White', 'Black', 'White', 'Black', 'White', 'Black', 'White', 'Black', 'White', 'Black', 'White', 'Black', 'White', 'Black', 'White', 'Black', 'White', 'Black', 'White', 'Black', 'White', 'Black', 'White', 'Black', 'White', 'Black', 'White', 'Black', 'White', 'Black', 'White', 'Black', 'White', 'Black', 'White', 'Black', 'White', 'Black', 'White', 'Black', 'White', 'Black', 'White', 'Black', 'White', 'Black', 'White', 'Black', 'White', 'Black', 'White', 'Black', 'White', 'Black', 'White', 'Black', 'White', 'Black', 'White', 'Black', 'White', 'Black', 'White', 'Black', 'White', 'Black', 'White', 'Black', 'White', 'Black', 'White', 'Black', 'White', 'Black', 'White', 'Black', 'White', 'Black', 'White', 'Black', 'White', 'Black', 'White', 'Black', 'White', 'Black', 'White', 'Black', 'White', 'Black', 'White', 'Black', 'White', 'Black', 'White', 'Black', 'White', 'Black', 'White', 'Black', 'White', 'Black', 'White', 'Black', 'White', 'Black', 'White', 'Black', 'White', 'Black', 'White', 'Black', 'White', 'Black', 'White', 'Black', 'White', 'Black', 'White', 'Black', 'White', 'Black', 'White', 'Black', 'White', 'Black', 'White', 'Black', 'White', 'Black', 'White', 'Black', 'White', 'Black', 'White', 'Black', 'White', 'Black', 'White', 'Black', 'White', 'Black', 'White', 'Black', 'White', 'Black', 'White', 'Black', 'White', 'Black', 'White', 'Black', 'White', 'Black', 'White', 'Black', 'White', 'Black', 'White', 'Black', 'White', 'Black', 'White', 'Black', 'White', 'Black', 'White', 'Black', 'White', 'Black', 'White', 'Black', 'White', 'Black', 'White', 'Black', 'White', 'Black', 'White', 'Black', 'White', 'Black', 'White', 'Black', 'White', 'Black', 'White', 'Black', 'White', 'Black', 'White', 'Black', 'White', 'Black', 'White', 'Black', 'White', 'Black', 'White', 'Black', 'White', 'Black', 'White', 'Black', 'White', 'Black', 'White', 'Black', 'White', 'Black', 'White', 'Black', 'White', 'Black', 'White', 'Black', 'White', 'Black', 'White', 'Black', 'White', 'Black', 'White', 'Black', 'White', 'Black', 'White', 'Black', 'White', 'Black', 'White', 'Black', 'White', 'Black', 'White', 'Black', 'White', 'Black', 'White', 'Black', 'White', 'Black', 'White', 'Black', 'White', 'Black', 'White', 'Black', 'White', 'Black', 'White', 'Black', 'White', 'Black', 'White', 'Black', 'White', 'Black', 'White', 'Black', 'White', 'Black', 'White', 'Black', 'White', 'Black', 'White', 'Black', 'White', 'Black', 'White', 'Black', 'White', 'Black', 'White', 'Black', 'White', 'Black', 'White', 'Black', 'White', 'Black', 'White', 'Black', 'White', 'Black', 'White', 'Black', 'White', 'Black', 'White', 'Black', 'White', 'Black', 'White', 'Black', 'White', 'Black', 'White', 'Black', 'White', 'Black', 'White', 'Black', 'White', 'Black', 'White', 'Black', 'White', 'Black', 'White', 'Black', 'White', 'Black', 'White', 'Black', 'White', 'Black', 'White', 'Black', 'White', 'Black', 'White', 'Black', 'White', 'Black', 'White', 'Black', 'White', 'Black', 'White', 'Black', 'White', 'Black', 'White', 'Black', 'White', 'Black', 'White', 'Black', 'White', 'Black', 'White', 'Black', 'White', 'Black', 'White', 'Black', 'White', 'Black', 'White', 'Black', 'White', 'Black', 'White', 'Black', 'White', 'Black', 'White', 'Black', 'White', 'Black', 'White', 'Black', 'White', 'Black', 'White', 'Black', 'White', 'Black', 'White', 'Black', 'White', 'Black', 'White', 'Black', 'White', 'Black', 'White', 'Black', 'White', 'Black', 'White', 'Black', 'White', 'Black', 'White', 'Black', 'White', 'Black', 'White', 'Black', 'White', 'Black', 'White', 'Black', 'White', 'Black', 'White', 'Black', 'White', 'Black', 'White', 'Black', 'White', 'Black', 'White', 'Black', 'White', 'Black', 'White', 'Black', 'White', 'Black', 'White', 'Black', 'White', 'Black', 'White', 'Black', 'White', 'Black', 'White', 'Black', 'White', 'Black', 'White', 'Black', 'White', 'Black', 'White', 'Black', 'White', 'Black', 'White', 'Black', 'White', 'Black', 'White', 'Black', 'White', 'Black', 'White', 'Black', 'White', 'Black', 'White', 'Black', 'White', 'Black', 'White', 'Black', 'White', 'Black', 'White', 'Black', 'White', 'Black', 'White', 'Black', 'White', 'Black', 'White', 'Black', 'White', 'Black', 'White', 'Black', 'White', 'Black', 'White', 'Black']\n"
     ]
    }
   ],
   "source": [
    "import itertools\n",
    "players = [\"White\",\"Black\"]\n",
    "\n",
    "turns = itertools.cycle(players)\n",
    "\n",
    "countdown = itertools.count(10,-1)\n",
    "print([turn for turn in itertools.takewhile(lambda x : next(countdown)>0,turns)])"
   ]
  },
  {
   "attachments": {},
   "cell_type": "markdown",
   "metadata": {},
   "source": [
    "### **Lazy evaluations with generators**"
   ]
  },
  {
   "attachments": {},
   "cell_type": "markdown",
   "metadata": {},
   "source": [
    "**Exercise 110 – generating a Sieve**"
   ]
  },
  {
   "cell_type": "code",
   "execution_count": 48,
   "metadata": {},
   "outputs": [
    {
     "data": {
      "text/plain": [
       "[2,\n",
       " 3,\n",
       " 5,\n",
       " 7,\n",
       " 11,\n",
       " 13,\n",
       " 17,\n",
       " 19,\n",
       " 23,\n",
       " 29,\n",
       " 31,\n",
       " 37,\n",
       " 41,\n",
       " 43,\n",
       " 47,\n",
       " 53,\n",
       " 59,\n",
       " 61,\n",
       " 67,\n",
       " 71,\n",
       " 73,\n",
       " 79,\n",
       " 83,\n",
       " 89,\n",
       " 97]"
      ]
     },
     "execution_count": 48,
     "metadata": {},
     "output_type": "execute_result"
    }
   ],
   "source": [
    "def primes_below(bound):\n",
    "    candidates = list(range(2,bound))\n",
    "    while(len(candidates)> 0):\n",
    "        yield candidates[0]\n",
    "        candidates = [c for c in candidates if c % candidates[0] != 0]\n",
    "[prime for prime in primes_below(100)]"
   ]
  },
  {
   "attachments": {},
   "cell_type": "markdown",
   "metadata": {},
   "source": [
    "## **Using regular expressions**"
   ]
  },
  {
   "attachments": {},
   "cell_type": "markdown",
   "metadata": {},
   "source": [
    "**Exercise 111 – matching text with regular expressions**"
   ]
  },
  {
   "cell_type": "code",
   "execution_count": 49,
   "metadata": {},
   "outputs": [
    {
     "name": "stdout",
     "output_type": "stream",
     "text": [
      "<re.Match object; span=(35, 37), match='ff'>\n"
     ]
    }
   ],
   "source": [
    "import re\n",
    "title = \"And now for something completely different\"\n",
    "pattern = \"(\\w)\\\\1+\"\n",
    "\n",
    "print(re.search(pattern,title))"
   ]
  },
  {
   "attachments": {},
   "cell_type": "markdown",
   "metadata": {},
   "source": [
    "**Exercise 112 – using regular expressions to replace text**"
   ]
  },
  {
   "cell_type": "code",
   "execution_count": 51,
   "metadata": {},
   "outputs": [
    {
     "name": "stdout",
     "output_type": "stream",
     "text": [
      "The Norwegian Blue is a wonderful ex-parrot. This ex-parrot is notable for its exquisite plumage.\n"
     ]
    }
   ],
   "source": [
    "import re\n",
    "description = \"The Norwegian Blue is a wonderful parrot. This parrot is notable for its exquisite plumage.\"\n",
    "\n",
    "\n",
    "pattern = \"(parrot)\"\n",
    "replacement = \"ex-\\\\1\"\n",
    "print(re.sub(pattern,replacement,description))"
   ]
  },
  {
   "cell_type": "code",
   "execution_count": null,
   "metadata": {},
   "outputs": [],
   "source": []
  }
 ],
 "metadata": {
  "kernelspec": {
   "display_name": "venv",
   "language": "python",
   "name": "python3"
  },
  "language_info": {
   "codemirror_mode": {
    "name": "ipython",
    "version": 3
   },
   "file_extension": ".py",
   "mimetype": "text/x-python",
   "name": "python",
   "nbconvert_exporter": "python",
   "pygments_lexer": "ipython3",
   "version": "3.11.2"
  },
  "orig_nbformat": 4
 },
 "nbformat": 4,
 "nbformat_minor": 2
}
