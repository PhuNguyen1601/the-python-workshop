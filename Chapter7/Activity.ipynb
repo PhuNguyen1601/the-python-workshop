{
 "cells": [
  {
   "attachments": {},
   "cell_type": "markdown",
   "metadata": {},
   "source": [
    "**Activity 18 – building a chess tournament**"
   ]
  },
  {
   "cell_type": "code",
   "execution_count": null,
   "metadata": {},
   "outputs": [],
   "source": [
    "\n",
    "player = ['Mugnus Carlse', 'Fabiano Caruana', 'Yifan Hou', 'Wenjun Ju']\n",
    "\n",
    "tournament = [f'{x} vs. {y}' for x in player for y in player if x != y]\n",
    "\n",
    "print(tournament)"
   ]
  },
  {
   "attachments": {},
   "cell_type": "markdown",
   "metadata": {},
   "source": [
    "**Activity 19 – building a scorecard using dictionary comprehensions and multiple lists**"
   ]
  },
  {
   "cell_type": "code",
   "execution_count": 15,
   "metadata": {},
   "outputs": [
    {
     "name": "stdout",
     "output_type": "stream",
     "text": [
      "['Vivian: 70', 'Racheal: 82', 'Tom: 80', 'Adrian: 79', 'Fuka: No score', 'Alex: No score']\n"
     ]
    }
   ],
   "source": [
    "students = ['Vivian', 'Racheal', 'Tom', 'Adrian', 'Fuka', 'Alex']\n",
    "scores = [70, 82, 80, 79, None, None]\n",
    "\n",
    "print([f'{students[i]}: {scores[i]}' if scores[i] is not None else f'{students[i]}: No score' for i in range(len(students))])\n"
   ]
  },
  {
   "attachments": {},
   "cell_type": "markdown",
   "metadata": {},
   "source": [
    "**Activity 20 – using random numbers to find the value of Pi**"
   ]
  },
  {
   "cell_type": "code",
   "execution_count": 31,
   "metadata": {},
   "outputs": [
    {
     "name": "stdout",
     "output_type": "stream",
     "text": [
      "[3.148, 3.148, 3.1226666666666665, 3.131, 3.132, 3.134, 3.121142857142857, 3.1275, 3.1244444444444444]\n",
      "[0.0064073464102070155, 0.0064073464102070155, -0.018925986923126636, -0.010592653589793333, -0.009592653589792999, -0.007592653589793219, -0.02044979644693612, -0.01409265358979317, -0.01714820914534876]\n"
     ]
    }
   ],
   "source": [
    "import math\n",
    "import random\n",
    "\n",
    "def approximate_pi():\n",
    "    total_points = 0\n",
    "    within_circle = 0\n",
    "    for i in range (10001):\n",
    "        x = random.random()\n",
    "        y = random.random()\n",
    "        total_points += 1\n",
    "        distance = math.sqrt(x**2+y**2)\n",
    "        if distance < 1:\n",
    "            within_circle += 1\n",
    "        if total_points % 1000 == 0:\n",
    "            pi_estimate = 4 * within_circle / total_points\n",
    "            if total_points == 10000:\n",
    "                return pi_estimate\n",
    "            else:\n",
    "                yield pi_estimate\n",
    "\n",
    "estimates = [estimate for estimate in approximate_pi()]\n",
    "errors = [estimate - math.pi for estimate in estimates]\n",
    "\n",
    "print(estimates)\n",
    "print(errors)"
   ]
  },
  {
   "attachments": {},
   "cell_type": "markdown",
   "metadata": {},
   "source": [
    "**Activity 21 – finding a winner for The X-Files**"
   ]
  },
  {
   "cell_type": "code",
   "execution_count": 34,
   "metadata": {},
   "outputs": [
    {
     "name": "stdout",
     "output_type": "stream",
     "text": [
      "['Xander Harris', 'Jennifer Smithx', 'Amy Alexandrescu', 'Weifung Xu']\n"
     ]
    }
   ],
   "source": [
    "import re\n",
    "customers = [\"Xander Harris\",\"Jennifer Smith\",\"Timothy Jones\",\"Amy Alexandrescu\",\"Pater Price\",\"Weifung Xu\"]\n",
    "\n",
    "\n",
    "print([cus for cus in customers if re.search('[Xx]',cus)])"
   ]
  },
  {
   "cell_type": "code",
   "execution_count": null,
   "metadata": {},
   "outputs": [],
   "source": []
  }
 ],
 "metadata": {
  "kernelspec": {
   "display_name": "venv",
   "language": "python",
   "name": "python3"
  },
  "language_info": {
   "codemirror_mode": {
    "name": "ipython",
    "version": 3
   },
   "file_extension": ".py",
   "mimetype": "text/x-python",
   "name": "python",
   "nbconvert_exporter": "python",
   "pygments_lexer": "ipython3",
   "version": "3.11.2"
  },
  "orig_nbformat": 4
 },
 "nbformat": 4,
 "nbformat_minor": 2
}
