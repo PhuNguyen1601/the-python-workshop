{
 "cells": [
  {
   "attachments": {},
   "cell_type": "markdown",
   "metadata": {},
   "source": [
    "**Exercise 59 – reading a text file using Python**"
   ]
  },
  {
   "cell_type": "code",
   "execution_count": null,
   "metadata": {},
   "outputs": [],
   "source": [
    "f = open('pg37431.txt')\n",
    "text = f.read()\n",
    "print(text)"
   ]
  },
  {
   "cell_type": "code",
   "execution_count": null,
   "metadata": {},
   "outputs": [],
   "source": [
    "text"
   ]
  },
  {
   "attachments": {},
   "cell_type": "markdown",
   "metadata": {},
   "source": [
    "**Exercise 60 – reading partial content from a text file**"
   ]
  },
  {
   "cell_type": "code",
   "execution_count": 5,
   "metadata": {},
   "outputs": [
    {
     "name": "stdout",
     "output_type": "stream",
     "text": [
      "The Project Gutenberg EBook of Pride and Prejudice, a play, by \n",
      "Mary Keith Medbery Mackaye\n",
      "\n",
      "This eBo\n"
     ]
    }
   ],
   "source": [
    "with open('pg37431.txt',encoding=\"utf-8\") as f:\n",
    "    print(f.read(100))\n"
   ]
  },
  {
   "cell_type": "code",
   "execution_count": 8,
   "metadata": {},
   "outputs": [],
   "source": [
    "f = open(\"log.txt\",\"w\", encoding=\"utf-8\")\n"
   ]
  },
  {
   "cell_type": "code",
   "execution_count": 15,
   "metadata": {},
   "outputs": [
    {
     "name": "stdout",
     "output_type": "stream",
     "text": [
      "20230309_09:34:17– 0\n",
      "20230309_09:34:18– 1\n",
      "20230309_09:34:19– 2\n",
      "20230309_09:34:20– 3\n",
      "20230309_09:34:21– 4\n",
      "20230309_09:34:22– 5\n",
      "20230309_09:34:23– 6\n",
      "20230309_09:34:24– 7\n",
      "20230309_09:34:25– 8\n",
      "20230309_09:34:26– 9\n"
     ]
    }
   ],
   "source": [
    "from datetime import datetime\n",
    "import time\n",
    "for i in range(0,10):\n",
    "    print(datetime.now().strftime(\"%Y%m%d_%H:%M:%S–\"),i)\n",
    "    f.write(datetime.now().strftime(\"%Y%m%d_%H:%M:%S–\"))\n",
    "    time.sleep(1)\n",
    "    f.write(str(i))\n",
    "    f.write(\"\\n\")\n",
    "f.close()"
   ]
  },
  {
   "attachments": {},
   "cell_type": "markdown",
   "metadata": {},
   "source": [
    "**Exercise 62 – working with incorrect parameters to find the\n",
    "average using assert with functions**"
   ]
  },
  {
   "cell_type": "code",
   "execution_count": 16,
   "metadata": {},
   "outputs": [],
   "source": [
    "def avg(marks):\n",
    "    assert len(marks) != 0\n",
    "    return round(sum(marks)/len(marks), 2)"
   ]
  },
  {
   "cell_type": "code",
   "execution_count": 17,
   "metadata": {},
   "outputs": [
    {
     "name": "stdout",
     "output_type": "stream",
     "text": [
      "Average marks for semester 1: 67.33\n"
     ]
    }
   ],
   "source": [
    "sem1_marks = [62,65,75]\n",
    "print(\"Average marks for semester 1:\",avg(sem1_marks))"
   ]
  },
  {
   "cell_type": "code",
   "execution_count": 20,
   "metadata": {},
   "outputs": [
    {
     "ename": "AssertionError",
     "evalue": "",
     "output_type": "error",
     "traceback": [
      "\u001b[1;31m---------------------------------------------------------------------------\u001b[0m",
      "\u001b[1;31mAssertionError\u001b[0m                            Traceback (most recent call last)",
      "Cell \u001b[1;32mIn[20], line 2\u001b[0m\n\u001b[0;32m      1\u001b[0m ranks\u001b[39m=\u001b[39m []\n\u001b[1;32m----> 2\u001b[0m \u001b[39mprint\u001b[39m(\u001b[39m\"\u001b[39m\u001b[39mAverage of marks for semester 1:\u001b[39m\u001b[39m\"\u001b[39m,avg(ranks))\n",
      "Cell \u001b[1;32mIn[16], line 2\u001b[0m, in \u001b[0;36mavg\u001b[1;34m(marks)\u001b[0m\n\u001b[0;32m      1\u001b[0m \u001b[39mdef\u001b[39;00m \u001b[39mavg\u001b[39m(marks):\n\u001b[1;32m----> 2\u001b[0m     \u001b[39massert\u001b[39;00m \u001b[39mlen\u001b[39m(marks) \u001b[39m!=\u001b[39m \u001b[39m0\u001b[39m\n\u001b[0;32m      3\u001b[0m     \u001b[39mreturn\u001b[39;00m \u001b[39mround\u001b[39m(\u001b[39msum\u001b[39m(marks)\u001b[39m/\u001b[39m\u001b[39mlen\u001b[39m(marks), \u001b[39m2\u001b[39m)\n",
      "\u001b[1;31mAssertionError\u001b[0m: "
     ]
    }
   ],
   "source": [
    "ranks= []\n",
    "print(\"Average of marks for semester 1:\",avg(ranks))"
   ]
  },
  {
   "cell_type": "code",
   "execution_count": null,
   "metadata": {},
   "outputs": [],
   "source": []
  }
 ],
 "metadata": {
  "kernelspec": {
   "display_name": "venv",
   "language": "python",
   "name": "python3"
  },
  "language_info": {
   "codemirror_mode": {
    "name": "ipython",
    "version": 3
   },
   "file_extension": ".py",
   "mimetype": "text/x-python",
   "name": "python",
   "nbconvert_exporter": "python",
   "pygments_lexer": "ipython3",
   "version": "3.11.2"
  },
  "orig_nbformat": 4
 },
 "nbformat": 4,
 "nbformat_minor": 2
}
