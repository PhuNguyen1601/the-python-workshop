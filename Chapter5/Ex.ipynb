{
 "cells": [
  {
   "attachments": {},
   "cell_type": "markdown",
   "metadata": {},
   "source": [
    "**Exercise 74 – the Country class with keyword arguments**"
   ]
  },
  {
   "cell_type": "code",
   "execution_count": 2,
   "metadata": {},
   "outputs": [
    {
     "name": "stdout",
     "output_type": "stream",
     "text": [
      "{'name': 'United States of America', 'population': None, 'size_kmsq': 9800000.0}\n"
     ]
    }
   ],
   "source": [
    "class Country:\n",
    "    def __init__(self,name=\"Unspecified\",population=None,size_kmsq = None):\n",
    "        self.name = name\n",
    "        self.population = population\n",
    "        self.size_kmsq = size_kmsq\n",
    "\n",
    "usa = Country(name='United States of America',size_kmsq=9.8e6)\n",
    "\n",
    "print(usa.__dict__)"
   ]
  },
  {
   "cell_type": "code",
   "execution_count": 4,
   "metadata": {},
   "outputs": [
    {
     "data": {
      "text/plain": [
       "12.566370614359172"
      ]
     },
     "execution_count": 4,
     "metadata": {},
     "output_type": "execute_result"
    }
   ],
   "source": [
    "import math\n",
    "class Circle:\n",
    "    is_shape = True\n",
    "    \n",
    "    def __init__(self, radius,color='red'):\n",
    "        self.radius = radius\n",
    "        self.color = color\n",
    "    \n",
    "    def area(self):\n",
    "        return math.pi * self.radius ** 2\n",
    "    \n",
    "circle = Circle(3)\n",
    "circle.area()\n",
    "\n",
    "circle.radius = 2 \n",
    "circle.area()"
   ]
  },
  {
   "attachments": {},
   "cell_type": "markdown",
   "metadata": {},
   "source": [
    "**Exercise 75 – adding an instance method to our Pet class**"
   ]
  },
  {
   "cell_type": "code",
   "execution_count": 7,
   "metadata": {},
   "outputs": [
    {
     "data": {
      "text/plain": [
       "False"
      ]
     },
     "execution_count": 7,
     "metadata": {},
     "output_type": "execute_result"
    }
   ],
   "source": [
    "class Pet:\n",
    "    def __init__(self,height):\n",
    "        self.height = height\n",
    "    \n",
    "    is_human = False\n",
    "    owner = 'Michael Smith'\n",
    "    \n",
    "    #? Adding arguments to instance methods\n",
    "    def is_tall (self,tall_is_least):\n",
    "        return self.height >= tall_is_least\n",
    "    \n",
    "bower = Pet(40)\n",
    "bower.is_tall(50)\n",
    "    \n"
   ]
  },
  {
   "attachments": {},
   "cell_type": "markdown",
   "metadata": {},
   "source": [
    "**Exercise 76 – computing the size of our country**"
   ]
  },
  {
   "cell_type": "code",
   "execution_count": 9,
   "metadata": {},
   "outputs": [
    {
     "data": {
      "text/plain": [
       "857520.0"
      ]
     },
     "execution_count": 9,
     "metadata": {},
     "output_type": "execute_result"
    }
   ],
   "source": [
    "class Country:\n",
    "    def __init__(self,name='Unspecified',population=None,size_kmsq = None):\n",
    "        self.name = name\n",
    "        self.population = population\n",
    "        self.size_kmsq = size_kmsq\n",
    "        \n",
    "    def size_miles_sq(self, conversion_rate = 0.621371):\n",
    "        return self.size_kmsq * conversion_rate ** 2\n",
    "    \n",
    "algeria = Country(name='Algeria',size_kmsq=2.382e6)\n",
    "algeria.size_miles_sq(conversion_rate=0.6)"
   ]
  },
  {
   "cell_type": "code",
   "execution_count": 16,
   "metadata": {},
   "outputs": [
    {
     "name": "stdout",
     "output_type": "stream",
     "text": [
      "Chad, size_kmsq:1000\n"
     ]
    }
   ],
   "source": [
    "class Country:\n",
    "    def __init__(self,name='Unspecified',population=None,size_kmsq = None):\n",
    "        self.name = name\n",
    "        self.population = population\n",
    "        self.size_kmsq = size_kmsq\n",
    "        \n",
    "    def __str__(self):\n",
    "        label = self.name\n",
    "        if self.population:\n",
    "            label = f'{self.name}, population:{self.population}'\n",
    "        if self.size_kmsq:\n",
    "            label = f'{self.name}, size_kmsq:{self.size_kmsq}'\n",
    "        return label\n",
    "algeria = Country(name='Chad',size_kmsq=1000,population=100)\n",
    "print(algeria)"
   ]
  },
  {
   "attachments": {},
   "cell_type": "markdown",
   "metadata": {},
   "source": [
    "### **Static methods**"
   ]
  },
  {
   "cell_type": "code",
   "execution_count": 17,
   "metadata": {},
   "outputs": [
    {
     "data": {
      "text/plain": [
       "True"
      ]
     },
     "execution_count": 17,
     "metadata": {},
     "output_type": "execute_result"
    }
   ],
   "source": [
    "class Pet:\n",
    "    def __init__(self,height):\n",
    "        self.height = height\n",
    "    \n",
    "    is_human = False\n",
    "    owner = 'Michael Smith'\n",
    "    \n",
    "    @staticmethod\n",
    "    def owned_by_smith_family():\n",
    "        return 'Smith' in Pet.owner\n",
    "    \n",
    "bower = Pet(100)\n",
    "bower.owned_by_smith_family()"
   ]
  },
  {
   "cell_type": "code",
   "execution_count": 18,
   "metadata": {},
   "outputs": [
    {
     "data": {
      "text/plain": [
       "False"
      ]
     },
     "execution_count": 18,
     "metadata": {},
     "output_type": "execute_result"
    }
   ],
   "source": [
    "class MyInt(int):\n",
    "    def is_divisible_by(self, x):\n",
    "        return self % x == 0\n",
    "    \n",
    "a = MyInt(8)\n",
    "a.is_divisible_by(3)"
   ]
  },
  {
   "attachments": {},
   "cell_type": "markdown",
   "metadata": {},
   "source": [
    "**Overriding methods**"
   ]
  },
  {
   "cell_type": "code",
   "execution_count": 29,
   "metadata": {},
   "outputs": [
    {
     "name": "stdout",
     "output_type": "stream",
     "text": [
      "Mary\n",
      "Anne Smith\n"
     ]
    }
   ],
   "source": [
    "class Person:\n",
    "    def __init__(self, first_name, last_name):\n",
    "        self.first_name = first_name\n",
    "        self.last_name = last_name\n",
    "    \n",
    "    @property\n",
    "    def full_name(self):\n",
    "        return f'{self.first_name} ---- {self.last_name}'\n",
    "    \n",
    "    @full_name.setter\n",
    "    def full_name(self, name):\n",
    "        first, last = name.split(' ')\n",
    "        print(f'first: {first} last: {last}')\n",
    "        self.first_name = first\n",
    "        self.last_name = last\n",
    "\n",
    "\n",
    "class BetterPerson(Person):\n",
    "    @property\n",
    "    def full_name(self):\n",
    "        return f'{self.first_name} {self.last_name}'\n",
    "    @full_name.setter\n",
    "    def full_name(self, name):\n",
    "        names = name.split(' ')\n",
    "        self.first_name = names[0]\n",
    "        if len(names) > 2:\n",
    "            self.last_name = ' '.join(names[1:])\n",
    "        elif len(names) == 2:\n",
    "            self.last_name = names[1]\n",
    "            \n",
    "my_person = BetterPerson('Mary', 'Smith')\n",
    "my_person.full_name = 'Mary Anne Smith'\n",
    "print(my_person.first_name)\n",
    "print(my_person.last_name)"
   ]
  },
  {
   "attachments": {},
   "cell_type": "markdown",
   "metadata": {},
   "source": [
    "**Exercise 84 – overriding methods using super()**"
   ]
  },
  {
   "cell_type": "code",
   "execution_count": 35,
   "metadata": {},
   "outputs": [
    {
     "name": "stdout",
     "output_type": "stream",
     "text": [
      "01-Jan-2018\n",
      "2018/03/03\n"
     ]
    }
   ],
   "source": [
    "import datetime\n",
    "\n",
    "class Diary:\n",
    "    def __init__(self, birthday, christmas):\n",
    "        self.birthday = birthday\n",
    "        self.christmas = christmas\n",
    "    \n",
    "    @staticmethod\n",
    "    def format_date(date):\n",
    "        return date.strftime('%d-%b-%y')\n",
    "    def show_birthday(self):\n",
    "        return self.format_date(self.birthday)\n",
    "    def show_christmas(self):\n",
    "        return self.format_date(self.christmas)\n",
    "    \n",
    "class CustomDiary(Diary):\n",
    "    def __init__(self, birthday, christmas,date_format):\n",
    "        self.date_format = date_format\n",
    "        super().__init__(birthday, christmas)\n",
    "        \n",
    "    def format_date(self,date):\n",
    "        return date.strftime(self.date_format)\n",
    "\n",
    "\n",
    "first_diary = CustomDiary(datetime.date(2018,1,1),\n",
    "datetime.date(2018,3,3), '%d-%b-%Y')\n",
    "second_diary = CustomDiary(datetime.date(2018,1,1),\n",
    "datetime.date(2018,3,3), '%Y/%d/%m')\n",
    "print(first_diary.show_birthday())\n",
    "print(second_diary.show_christmas())\n",
    "\n"
   ]
  },
  {
   "attachments": {},
   "cell_type": "markdown",
   "metadata": {},
   "source": [
    "**Exercise 85 – creating a consultation appointment system**"
   ]
  },
  {
   "cell_type": "code",
   "execution_count": 43,
   "metadata": {},
   "outputs": [
    {
     "name": "stdout",
     "output_type": "stream",
     "text": [
      "Note that you are booking an appointment with a baby!\n",
      "Booking appointment for date 2018-01-01\n",
      "I'm tired!\n",
      "Hello, my name is Boris\n"
     ]
    }
   ],
   "source": [
    "import datetime\n",
    "\n",
    "class Person:\n",
    "    def __init__(self,first_name,last_name):\n",
    "        self.first_name = first_name\n",
    "        self.last_name = last_name\n",
    "        \n",
    "class Baby(Person):\n",
    "    def speak(self):\n",
    "        print('blah blah blah blah!!!!!')\n",
    "        \n",
    "class Adult(Person):\n",
    "    def speak(self):\n",
    "        print('Hello, my name is', self.first_name)\n",
    "\n",
    "class Calendar:\n",
    "    def book_appointment(self,date):\n",
    "        print('Booking appointment for date',date)\n",
    "\n",
    "class OrganizedBaby(Adult,Calendar):\n",
    "    def book_appointment(self, date):\n",
    "        print('Note that you are booking an appointment with a baby!')\n",
    "        super().book_appointment(date)\n",
    "        \n",
    "class OrganizedAdult(Adult,Calendar):\n",
    "    pass\n",
    "\n",
    "boris = OrganizedBaby('Boris','Bumble')\n",
    "boris.book_appointment(datetime.date(2018,1,1))"
   ]
  },
  {
   "cell_type": "code",
   "execution_count": null,
   "metadata": {},
   "outputs": [],
   "source": []
  }
 ],
 "metadata": {
  "kernelspec": {
   "display_name": "venv",
   "language": "python",
   "name": "python3"
  },
  "language_info": {
   "codemirror_mode": {
    "name": "ipython",
    "version": 3
   },
   "file_extension": ".py",
   "mimetype": "text/x-python",
   "name": "python",
   "nbconvert_exporter": "python",
   "pygments_lexer": "ipython3",
   "version": "3.11.2"
  },
  "orig_nbformat": 4
 },
 "nbformat": 4,
 "nbformat_minor": 2
}
