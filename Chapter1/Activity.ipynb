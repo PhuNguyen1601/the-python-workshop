{
 "cells": [
  {
   "attachments": {},
   "cell_type": "markdown",
   "metadata": {
    "tags": []
   },
   "source": [
    "**Activity 1 – assigning values to variables**"
   ]
  },
  {
   "cell_type": "code",
   "execution_count": 4,
   "metadata": {},
   "outputs": [
    {
     "data": {
      "text/plain": [
       "9.0"
      ]
     },
     "execution_count": 4,
     "metadata": {},
     "output_type": "execute_result"
    }
   ],
   "source": [
    "x = 14\n",
    "x += 1\n",
    "(x / 5) ** 2"
   ]
  },
  {
   "attachments": {},
   "cell_type": "markdown",
   "metadata": {},
   "source": [
    "**Variable names**"
   ]
  },
  {
   "cell_type": "code",
   "execution_count": 5,
   "metadata": {},
   "outputs": [
    {
     "name": "stdout",
     "output_type": "stream",
     "text": [
      "['False', 'None', 'True', 'and', 'as', 'assert', 'async', 'await', 'break', 'class', 'continue', 'def', 'del', 'elif', 'else', 'except', 'finally', 'for', 'from', 'global', 'if', 'import', 'in', 'is', 'lambda', 'nonlocal', 'not', 'or', 'pass', 'raise', 'return', 'try', 'while', 'with', 'yield']\n"
     ]
    }
   ],
   "source": [
    "import keyword\n",
    "print(keyword.kwlist)"
   ]
  },
  {
   "attachments": {},
   "cell_type": "markdown",
   "metadata": {},
   "source": [
    "**Activity 2 – finding the area of a triangle**"
   ]
  },
  {
   "cell_type": "code",
   "execution_count": 6,
   "metadata": {},
   "outputs": [],
   "source": [
    "## Step 1: Write a docstring\n",
    "\"\"\"\n",
    "This code calculates the area of a triangle using the formula: 1/2 * base * height\n",
    "\"\"\"\n",
    "\n",
    "## Step 2: Assign values to variables\n",
    "base = 2\n",
    "height = 4\n",
    "\n",
    "## Step 3: Calculate the area of the triangle\n",
    "area = 1/2 * base * height\n",
    "\n",
    "## Step 4: Convert the area to an integer\n",
    "area = int(area)\n",
    "\n",
    "## Step 5: Display the final output\n",
    "\n",
    "## -> Output: 4"
   ]
  },
  {
   "attachments": {},
   "cell_type": "markdown",
   "metadata": {},
   "source": [
    "***Strings – concatenation, methods, and input()***"
   ]
  },
  {
   "attachments": {},
   "cell_type": "markdown",
   "metadata": {},
   "source": [
    "*String syntax*"
   ]
  },
  {
   "attachments": {},
   "cell_type": "markdown",
   "metadata": {},
   "source": [
    "**Activity 3 – using the input() func tion to rate your day**"
   ]
  },
  {
   "cell_type": "code",
   "execution_count": 23,
   "metadata": {},
   "outputs": [
    {
     "name": "stdout",
     "output_type": "stream",
     "text": [
      "Your rating your day not on a scale of 1 to 10!\n"
     ]
    }
   ],
   "source": [
    "rating = input(\"How would you rate your day on a scale of 1 to 10? \")\n",
    "rating = int(rating)\n",
    "if rating < 1 or rating > 10:\n",
    "    print('Your rating your day not on a scale of 1 to 10!')\n",
    "else:\n",
    "    print(f'You rated your day: {rating}')"
   ]
  },
  {
   "attachments": {},
   "cell_type": "markdown",
   "metadata": {},
   "source": [
    "**Activity 4 – finding the least common multiple (LCM)**"
   ]
  },
  {
   "cell_type": "code",
   "execution_count": 25,
   "metadata": {},
   "outputs": [
    {
     "name": "stdout",
     "output_type": "stream",
     "text": [
      "36\n",
      "Least common multiple of 24 and 36 is 72\n"
     ]
    }
   ],
   "source": [
    "a = 24\n",
    "b = 36\n",
    "\n",
    "def LCM(x,y):\n",
    "    if x > y:\n",
    "        greater = x\n",
    "        print(greater)\n",
    "    else:\n",
    "        greater = y\n",
    "        print(greater)\n",
    "    while True:\n",
    "        if(greater % x == 0) and (greater % y == 0):\n",
    "            lcm = greater\n",
    "            break\n",
    "        greater += 1\n",
    "    return lcm\n",
    "\n",
    "print(f'Least common multiple of {a} and {b} is {LCM(a,b)}')"
   ]
  },
  {
   "attachments": {},
   "cell_type": "markdown",
   "metadata": {},
   "source": [
    "**Activity 5 – building conversational bots using Python**"
   ]
  },
  {
   "cell_type": "code",
   "execution_count": 30,
   "metadata": {},
   "outputs": [
    {
     "name": "stdout",
     "output_type": "stream",
     "text": [
      "Bot 1: Hi there! I am your virtual assistant. What is your name?\n",
      "Bot 1: Nice to meet you, Phu. How has your day been so far?\n",
      "Bot 1: I see, so your day has been fine. That's interesting. What else is on your mind?\n",
      "Bot 1: Ah, I understand. You're thinking about fine. Is there anything else you want to talk about?\n",
      "Bot 1: Okay, I hear you. Let's move on to the next topic.\n",
      "Bot 2: Hello, I'm your numerical bot. Can you rate your experience with our service on a scale of 1 to 10?\n",
      "Bot 2: Great to hear that! Is there anything we can do to improve our service?\n",
      "Bot 2: Now, can you rate your experience with our product on a scale of 1 to 5?\n",
      "Bot 2: I'm sorry to hear that. Can you share some areas where we can improve our product?\n",
      "Bot 2: Okay, that's good to know. Thanks for sharing. Let's end our conversation here.\n"
     ]
    }
   ],
   "source": [
    "def bot1():\n",
    "    # Bot 1: Asking two questions and responding to each answer\n",
    "    print(\"Bot 1: Hi there! I am your virtual assistant. What is your name?\")\n",
    "    name = input(\"You: \")\n",
    "    print(f\"Bot 1: Nice to meet you, {name}. How has your day been so far?\")\n",
    "    mood = input(\"You: \")\n",
    "    print(f\"Bot 1: I see, so your day has been {mood}. That's interesting. What else is on your mind?\")\n",
    "    topic = input(\"You: \")\n",
    "    print(f\"Bot 1: Ah, I understand. You're thinking about {topic}. Is there anything else you want to talk about?\")\n",
    "    response = input(\"You: \")\n",
    "    print(\"Bot 1: Okay, I hear you. Let's move on to the next topic.\")\n",
    "\n",
    "def bot2():\n",
    "    # Bot 2: Asking questions that require numerical answers\n",
    "    print(\"Bot 2: Hello, I am your virtual assistant. Can you rate your experience with our service on a scale of 1 to 10?\")\n",
    "    rating = int(input(\"You: \"))\n",
    "    if rating >= 8:\n",
    "        print(\"Bot 2: Great to hear that! Is there anything we can do to improve our service?\")\n",
    "    elif rating >= 5:\n",
    "        print(\"Bot 2: Thanks for your feedback. We'll try our best to improve. Can you rate your overall satisfaction with our service?\")\n",
    "        rating2 = int(input(\"You: \"))\n",
    "        if rating2 >= 8:\n",
    "            print(\"Bot 2: That's good to hear. Is there anything specific that you liked about our service?\")\n",
    "        elif rating2 >= 5:\n",
    "            print(\"Bot 2: Thank you for your honest feedback. Can you share some areas where we can improve?\")\n",
    "            response = input(\"You: \")\n",
    "            print(\"Bot 2: Okay, I appreciate your input. Let's move on to the next topic.\")\n",
    "        else:\n",
    "            print(\"Bot 2: I'm sorry to hear that. Is there anything specific that you didn't like about our service?\")\n",
    "    else:\n",
    "        print(\"Bot 2: I'm sorry to hear that. Can you share some areas where we can improve?\")\n",
    "        response = input(\"You: \")\n",
    "        print(\"Bot 2: Okay, I appreciate your input. Let's move on to the next topic.\")\n",
    "    \n",
    "    print(\"Bot 2: Now, can you rate your experience with our product on a scale of 1 to 5?\")\n",
    "    rating3 = int(input(\"You: \"))\n",
    "    if rating3 == 5:\n",
    "        print(\"Bot 2: Fantastic! Is there anything you particularly liked about our product?\")\n",
    "    elif rating3 == 4:\n",
    "        print(\"Bot 2: Thanks for your positive feedback. Can you share some areas where we can improve our product?\")\n",
    "        response = input(\"You: \")\n",
    "        print(\"Bot 2: Okay, that's helpful. Anything else on your mind?\")\n",
    "    else:\n",
    "        print(\"Bot 2: I'm sorry to hear that. Can you share some areas where we can improve our product?\")\n",
    "        response = input(\"You: \")\n",
    "        print(\"Bot 2: Okay, that's good to know. Thanks for sharing. Let's end our conversation here.\")\n",
    "        \n",
    "def conversation():\n",
    "    bot1()\n",
    "    bot2()\n",
    "\n",
    "conversation()\n"
   ]
  },
  {
   "attachments": {},
   "cell_type": "markdown",
   "metadata": {},
   "source": [
    "**Activity 6 – using a nested list to store employee data**"
   ]
  },
  {
   "cell_type": "code",
   "execution_count": 3,
   "metadata": {},
   "outputs": [
    {
     "name": "stdout",
     "output_type": "stream",
     "text": [
      "[['John Mckee', 38, 'Sales'], ['Lisa Crawford', 29, 'Marketing'], ['Sujan Patel', 33, 'HR']]\n",
      "Name: John Mckee\n",
      "Age: 38\n",
      "Department: Sales\n",
      "\n",
      "Name: Lisa Crawford\n",
      "Age: 29\n",
      "Department: Marketing\n",
      "\n",
      "Name: Sujan Patel\n",
      "Age: 33\n",
      "Department: HR\n",
      "\n",
      "----------\n",
      "Name: Sujan Patel\n",
      "Age: 33\n",
      "Department: HR\n"
     ]
    }
   ],
   "source": [
    "employees = []\n",
    "employees.append(['John Mckee',38,'Sales'])\n",
    "employees.append(['Lisa Crawford',29,'Marketing'])\n",
    "employees.append(['Sujan Patel',33,'HR'])\n",
    "\n",
    "print (employees)\n",
    "\n",
    "for employee in employees:\n",
    "    print('Name:',employee[0])\n",
    "    print('Age:',employee[1])\n",
    "    print('Department:',employee[2])\n",
    "    print('---------------------')\n",
    "\n",
    "print('----------')\n",
    "print(\"Name:\", employees[2][0])\n",
    "print(\"Age:\", employees[2][1])\n",
    "print(\"Department:\", employees[2][2])"
   ]
  },
  {
   "attachments": {},
   "cell_type": "markdown",
   "metadata": {},
   "source": [
    "**Activity 7 – storing company employee table data using a list and \n",
    "a dictionary**"
   ]
  },
  {
   "cell_type": "code",
   "execution_count": 8,
   "metadata": {},
   "outputs": [
    {
     "name": "stdout",
     "output_type": "stream",
     "text": [
      "Name: John Mckee\n",
      "Age: 38\n",
      "Department: Sales\n",
      "-----------\n",
      "Name: Lisa Crawford\n",
      "Age: 29\n",
      "Department: Marketing\n",
      "-----------\n",
      "Name: Sujan Patel\n",
      "Age: 33\n",
      "Department: HR\n",
      "-----------\n",
      "Info Sujan Patel:\n",
      "Name: Sujan Patel\n",
      "Age: 33\n",
      "Department: HR\n"
     ]
    }
   ],
   "source": [
    "employees = [\n",
    "    {'Name':'John Mckee','Age':38,'Department':'Sales'},\n",
    "    {'Name':'Lisa Crawford','Age':29,'Department':'Marketing'},\n",
    "    {'Name':'Sujan Patel','Age':33,'Department':'HR'}\n",
    "]\n",
    "\n",
    "\n",
    "for employee in employees:\n",
    "    print('Name:',employee['Name'])\n",
    "    print('Age:',employee['Age'])\n",
    "    print('Department:',employee['Department'])\n",
    "    print('-----------')\n",
    "print('Info Sujan Patel:')\n",
    "print('Name:',employees[2]['Name']) \n",
    "print('Age:',employees[2]['Age']) \n",
    "print('Department:',employees[2]['Department']) \n"
   ]
  },
  {
   "attachments": {},
   "cell_type": "markdown",
   "metadata": {},
   "source": [
    "**Activity 8 – what’s the time?**"
   ]
  },
  {
   "cell_type": "code",
   "execution_count": 9,
   "metadata": {},
   "outputs": [
    {
     "name": "stdout",
     "output_type": "stream",
     "text": [
      "2023-03-08 13:02:16.895253\n"
     ]
    }
   ],
   "source": [
    "\"\"\"\n",
    "    This script retrieves the current time and prints it on the console.\n",
    "\"\"\"\n",
    "\n",
    "import datetime\n",
    "\n",
    "current_time = datetime.datetime.now()\n",
    "\n",
    "if __name__ == '__main__':\n",
    "    print(current_time)"
   ]
  },
  {
   "attachments": {},
   "cell_type": "markdown",
   "metadata": {},
   "source": [
    "# **Python algorithms**"
   ]
  },
  {
   "attachments": {},
   "cell_type": "markdown",
   "metadata": {},
   "source": [
    "### **1. Sorting algorithms**"
   ]
  },
  {
   "attachments": {},
   "cell_type": "markdown",
   "metadata": {},
   "source": [
    "**Exercise 40 – using bubble sort in Python**"
   ]
  },
  {
   "cell_type": "code",
   "execution_count": 22,
   "metadata": {},
   "outputs": [
    {
     "name": "stdout",
     "output_type": "stream",
     "text": [
      "4\n"
     ]
    },
    {
     "data": {
      "text/plain": [
       "[1, 2, 3, 5, 8]"
      ]
     },
     "execution_count": 22,
     "metadata": {},
     "output_type": "execute_result"
    }
   ],
   "source": [
    "list = [5, 8, 1, 3, 2] \n",
    "\n",
    "still_swapping = True \n",
    "while still_swapping:\n",
    "    still_swapping = False\n",
    "    for i in range(len(list) - 1):\n",
    "        if list[i] > list[i+1]:\n",
    "            list[i], list[i+1] = list[i+1], list[i]\n",
    "            still_swapping = True\n",
    "list"
   ]
  },
  {
   "attachments": {},
   "cell_type": "markdown",
   "metadata": {},
   "source": [
    "### **2. Searching algorithms**"
   ]
  },
  {
   "attachments": {},
   "cell_type": "markdown",
   "metadata": {},
   "source": [
    "**Exercise 41 – linear search in Python**"
   ]
  },
  {
   "cell_type": "code",
   "execution_count": 20,
   "metadata": {},
   "outputs": [
    {
     "name": "stdout",
     "output_type": "stream",
     "text": [
      "7\n",
      "-1\n"
     ]
    }
   ],
   "source": [
    "l = [5, 8, 1, 3, 2, 9, 4]\n",
    "\n",
    "search_for = 4\n",
    "result = -1\n",
    "print(len(l)-1)\n",
    "\n",
    "for i in range(len(l)):\n",
    "    if search_for == l[i]:\n",
    "        result = i\n",
    "        break\n",
    "print(result)"
   ]
  },
  {
   "attachments": {},
   "cell_type": "markdown",
   "metadata": {},
   "source": [
    "**Exercise 42 – binary search in Python**"
   ]
  },
  {
   "cell_type": "code",
   "execution_count": 23,
   "metadata": {},
   "outputs": [
    {
     "name": "stdout",
     "output_type": "stream",
     "text": [
      "True\n",
      "4\n"
     ]
    }
   ],
   "source": [
    "l = [2, 3, 5, 8, 11, 12, 18]\n",
    "\n",
    "search_for = 11\n",
    "\n",
    "slice_start = 0\n",
    "slice_end = len(l) - 1\n",
    "\n",
    "found = False\n",
    "\n",
    "while slice_start <= slice_end and not found:\n",
    "    location = (slice_start + slice_end) // 2\n",
    "    if l[location] == search_for:\n",
    "        found = True\n",
    "    else:\n",
    "        if search_for < l[location]:\n",
    "            slice_end = location - 1\n",
    "        else:\n",
    "            slice_start = location + 1\n",
    "print(found)\n",
    "print(location)"
   ]
  },
  {
   "cell_type": "code",
   "execution_count": null,
   "metadata": {},
   "outputs": [],
   "source": []
  }
 ],
 "metadata": {
  "kernelspec": {
   "display_name": "venv",
   "language": "python",
   "name": "python3"
  },
  "language_info": {
   "codemirror_mode": {
    "name": "ipython",
    "version": 3
   },
   "file_extension": ".py",
   "mimetype": "text/x-python",
   "name": "python",
   "nbconvert_exporter": "python",
   "pygments_lexer": "ipython3",
   "version": "3.11.2"
  },
  "orig_nbformat": 4
 },
 "nbformat": 4,
 "nbformat_minor": 2
}
