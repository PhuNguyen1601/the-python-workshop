{
 "cells": [
  {
   "attachments": {},
   "cell_type": "markdown",
   "metadata": {
    "tags": []
   },
   "source": [
    "**Activity 1 – assigning values to variables**"
   ]
  },
  {
   "cell_type": "code",
   "execution_count": 4,
   "metadata": {},
   "outputs": [
    {
     "data": {
      "text/plain": [
       "9.0"
      ]
     },
     "execution_count": 4,
     "metadata": {},
     "output_type": "execute_result"
    }
   ],
   "source": [
    "x = 14\n",
    "x += 1\n",
    "(x / 5) ** 2"
   ]
  },
  {
   "attachments": {},
   "cell_type": "markdown",
   "metadata": {},
   "source": [
    "**Variable names**"
   ]
  },
  {
   "cell_type": "code",
   "execution_count": 5,
   "metadata": {},
   "outputs": [
    {
     "name": "stdout",
     "output_type": "stream",
     "text": [
      "['False', 'None', 'True', 'and', 'as', 'assert', 'async', 'await', 'break', 'class', 'continue', 'def', 'del', 'elif', 'else', 'except', 'finally', 'for', 'from', 'global', 'if', 'import', 'in', 'is', 'lambda', 'nonlocal', 'not', 'or', 'pass', 'raise', 'return', 'try', 'while', 'with', 'yield']\n"
     ]
    }
   ],
   "source": [
    "import keyword\n",
    "print(keyword.kwlist)"
   ]
  },
  {
   "attachments": {},
   "cell_type": "markdown",
   "metadata": {},
   "source": [
    "**Activity 2 – finding the area of a triangle**"
   ]
  },
  {
   "cell_type": "code",
   "execution_count": 6,
   "metadata": {},
   "outputs": [],
   "source": [
    "## Step 1: Write a docstring\n",
    "\"\"\"\n",
    "This code calculates the area of a triangle using the formula: 1/2 * base * height\n",
    "\"\"\"\n",
    "\n",
    "## Step 2: Assign values to variables\n",
    "base = 2\n",
    "height = 4\n",
    "\n",
    "## Step 3: Calculate the area of the triangle\n",
    "area = 1/2 * base * height\n",
    "\n",
    "## Step 4: Convert the area to an integer\n",
    "area = int(area)\n",
    "\n",
    "## Step 5: Display the final output\n",
    "\n",
    "## -> Output: 4"
   ]
  },
  {
   "attachments": {},
   "cell_type": "markdown",
   "metadata": {},
   "source": [
    "***Strings – concatenation, methods, and input()***"
   ]
  },
  {
   "attachments": {},
   "cell_type": "markdown",
   "metadata": {},
   "source": [
    "*String syntax*"
   ]
  },
  {
   "attachments": {},
   "cell_type": "markdown",
   "metadata": {},
   "source": [
    "**Activity 3 – using the input() func tion to rate your day**"
   ]
  },
  {
   "cell_type": "code",
   "execution_count": 23,
   "metadata": {},
   "outputs": [
    {
     "name": "stdout",
     "output_type": "stream",
     "text": [
      "Your rating your day not on a scale of 1 to 10!\n"
     ]
    }
   ],
   "source": [
    "rating = input(\"How would you rate your day on a scale of 1 to 10? \")\n",
    "rating = int(rating)\n",
    "if rating < 1 or rating > 10:\n",
    "    print('Your rating your day not on a scale of 1 to 10!')\n",
    "else:\n",
    "    print(f'You rated your day: {rating}')"
   ]
  },
  {
   "attachments": {},
   "cell_type": "markdown",
   "metadata": {},
   "source": [
    "**Activity 4 – finding the least common multiple (LCM)**"
   ]
  },
  {
   "cell_type": "code",
   "execution_count": 25,
   "metadata": {},
   "outputs": [
    {
     "name": "stdout",
     "output_type": "stream",
     "text": [
      "36\n",
      "Least common multiple of 24 and 36 is 72\n"
     ]
    }
   ],
   "source": [
    "a = 24\n",
    "b = 36\n",
    "\n",
    "def LCM(x,y):\n",
    "    if x > y:\n",
    "        greater = x\n",
    "        print(greater)\n",
    "    else:\n",
    "        greater = y\n",
    "        print(greater)\n",
    "    while True:\n",
    "        if(greater % x == 0) and (greater % y == 0):\n",
    "            lcm = greater\n",
    "            break\n",
    "        greater += 1\n",
    "    return lcm\n",
    "\n",
    "print(f'Least common multiple of {a} and {b} is {LCM(a,b)}')"
   ]
  },
  {
   "attachments": {},
   "cell_type": "markdown",
   "metadata": {},
   "source": [
    "**Activity 5 – building conversational bots using Python**"
   ]
  },
  {
   "cell_type": "code",
   "execution_count": 30,
   "metadata": {},
   "outputs": [
    {
     "name": "stdout",
     "output_type": "stream",
     "text": [
      "Bot 1: Hi there! I am your virtual assistant. What is your name?\n",
      "Bot 1: Nice to meet you, Phu. How has your day been so far?\n",
      "Bot 1: I see, so your day has been fine. That's interesting. What else is on your mind?\n",
      "Bot 1: Ah, I understand. You're thinking about fine. Is there anything else you want to talk about?\n",
      "Bot 1: Okay, I hear you. Let's move on to the next topic.\n",
      "Bot 2: Hello, I'm your numerical bot. Can you rate your experience with our service on a scale of 1 to 10?\n",
      "Bot 2: Great to hear that! Is there anything we can do to improve our service?\n",
      "Bot 2: Now, can you rate your experience with our product on a scale of 1 to 5?\n",
      "Bot 2: I'm sorry to hear that. Can you share some areas where we can improve our product?\n",
      "Bot 2: Okay, that's good to know. Thanks for sharing. Let's end our conversation here.\n"
     ]
    }
   ],
   "source": [
    "def bot1():\n",
    "    # Bot 1: Asking two questions and responding to each answer\n",
    "    print(\"Bot 1: Hi there! I am your virtual assistant. What is your name?\")\n",
    "    name = input(\"You: \")\n",
    "    print(f\"Bot 1: Nice to meet you, {name}. How has your day been so far?\")\n",
    "    mood = input(\"You: \")\n",
    "    print(f\"Bot 1: I see, so your day has been {mood}. That's interesting. What else is on your mind?\")\n",
    "    topic = input(\"You: \")\n",
    "    print(f\"Bot 1: Ah, I understand. You're thinking about {topic}. Is there anything else you want to talk about?\")\n",
    "    response = input(\"You: \")\n",
    "    print(\"Bot 1: Okay, I hear you. Let's move on to the next topic.\")\n",
    "\n",
    "def bot2():\n",
    "    # Bot 2: Asking questions that require numerical answers\n",
    "    print(\"Bot 2: Hello, I'm your numerical bot. Can you rate your experience with our service on a scale of 1 to 10?\")\n",
    "    rating = int(input(\"You: \"))\n",
    "    if rating >= 8:\n",
    "        print(\"Bot 2: Great to hear that! Is there anything we can do to improve our service?\")\n",
    "    elif rating >= 5:\n",
    "        print(\"Bot 2: Thanks for your feedback. We'll try our best to improve. Can you rate your overall satisfaction with our service?\")\n",
    "        rating2 = int(input(\"You: \"))\n",
    "        if rating2 >= 8:\n",
    "            print(\"Bot 2: That's good to hear. Is there anything specific that you liked about our service?\")\n",
    "        elif rating2 >= 5:\n",
    "            print(\"Bot 2: Thank you for your honest feedback. Can you share some areas where we can improve?\")\n",
    "            response = input(\"You: \")\n",
    "            print(\"Bot 2: Okay, I appreciate your input. Let's move on to the next topic.\")\n",
    "        else:\n",
    "            print(\"Bot 2: I'm sorry to hear that. Is there anything specific that you didn't like about our service?\")\n",
    "    else:\n",
    "        print(\"Bot 2: I'm sorry to hear that. Can you share some areas where we can improve?\")\n",
    "        response = input(\"You: \")\n",
    "        print(\"Bot 2: Okay, I appreciate your input. Let's move on to the next topic.\")\n",
    "    \n",
    "    print(\"Bot 2: Now, can you rate your experience with our product on a scale of 1 to 5?\")\n",
    "    rating3 = int(input(\"You: \"))\n",
    "    if rating3 == 5:\n",
    "        print(\"Bot 2: Fantastic! Is there anything you particularly liked about our product?\")\n",
    "    elif rating3 == 4:\n",
    "        print(\"Bot 2: Thanks for your positive feedback. Can you share some areas where we can improve our product?\")\n",
    "        response = input(\"You: \")\n",
    "        print(\"Bot 2: Okay, that's helpful. Anything else on your mind?\")\n",
    "    else:\n",
    "        print(\"Bot 2: I'm sorry to hear that. Can you share some areas where we can improve our product?\")\n",
    "        response = input(\"You: \")\n",
    "        print(\"Bot 2: Okay, that's good to know. Thanks for sharing. Let's end our conversation here.\")\n",
    "        \n",
    "def conversation():\n",
    "    bot1()\n",
    "    bot2()\n",
    "\n",
    "conversation()\n"
   ]
  },
  {
   "cell_type": "code",
   "execution_count": null,
   "metadata": {},
   "outputs": [],
   "source": []
  }
 ],
 "metadata": {
  "kernelspec": {
   "display_name": "venv",
   "language": "python",
   "name": "python3"
  },
  "language_info": {
   "codemirror_mode": {
    "name": "ipython",
    "version": 3
   },
   "file_extension": ".py",
   "mimetype": "text/x-python",
   "name": "python",
   "nbconvert_exporter": "python",
   "pygments_lexer": "ipython3",
   "version": "3.11.2"
  },
  "orig_nbformat": 4
 },
 "nbformat": 4,
 "nbformat_minor": 2
}
